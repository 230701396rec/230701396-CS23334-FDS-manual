{
 "cells": [
  {
   "cell_type": "code",
   "execution_count": null,
   "metadata": {
    "colab": {
     "base_uri": "https://localhost:8080/"
    },
    "id": "92PdaOCWvkFW",
    "outputId": "6f90a3cc-eab5-4d69-e2e3-a3324b3698b2"
   },
   "outputs": [
    {
     "data": {
      "text/plain": [
       "array([29, 62, 72,  5, 15, 86, 25, 69, 22, 86, 33, 98, 59, 85, 70, 27])"
      ]
     },
     "execution_count": 15,
     "metadata": {},
     "output_type": "execute_result"
    }
   ],
   "source": [
    "#Name:Praveenraj\n",
    "#Regno:230701396\n",
    "#CS23334-Fundamentals of DataScience\n",
    "import numpy as np\n",
    "array=np.random.randint(1,100,16) # randomly generate 16 numbers between 1 to 100\n",
    "array"
   ]
  },
  {
   "cell_type": "code",
   "execution_count": 17,
   "metadata": {
    "colab": {
     "base_uri": "https://localhost:8080/"
    },
    "id": "LxYd_7XHvq8w",
    "outputId": "491f1295-1e78-4225-a6d1-4153ea262ed4"
   },
   "outputs": [
    {
     "data": {
      "text/plain": [
       "52.6875"
      ]
     },
     "execution_count": 17,
     "metadata": {},
     "output_type": "execute_result"
    }
   ],
   "source": [
    "array.mean()"
   ]
  },
  {
   "cell_type": "code",
   "execution_count": 19,
   "metadata": {
    "colab": {
     "base_uri": "https://localhost:8080/"
    },
    "id": "izZs86a5vvfn",
    "outputId": "10d18250-a6d9-4b12-958f-e0b3cf5fdcdd"
   },
   "outputs": [
    {
     "data": {
      "text/plain": [
       "26.5"
      ]
     },
     "execution_count": 19,
     "metadata": {},
     "output_type": "execute_result"
    }
   ],
   "source": [
    "np.percentile(array,25)"
   ]
  },
  {
   "cell_type": "code",
   "execution_count": 21,
   "metadata": {
    "colab": {
     "base_uri": "https://localhost:8080/"
    },
    "id": "3c-9JOvKv1wk",
    "outputId": "de609a04-f3bf-422d-ab3d-9baf0f485a88"
   },
   "outputs": [
    {
     "data": {
      "text/plain": [
       "60.5"
      ]
     },
     "execution_count": 21,
     "metadata": {},
     "output_type": "execute_result"
    }
   ],
   "source": [
    "np.percentile(array,50)"
   ]
  },
  {
   "cell_type": "code",
   "execution_count": 23,
   "metadata": {
    "colab": {
     "base_uri": "https://localhost:8080/"
    },
    "id": "6mc5xAW8v8gb",
    "outputId": "048e1cc1-67da-452f-cfa0-051335483068"
   },
   "outputs": [
    {
     "data": {
      "text/plain": [
       "75.25"
      ]
     },
     "execution_count": 23,
     "metadata": {},
     "output_type": "execute_result"
    }
   ],
   "source": [
    "np.percentile(array,75)"
   ]
  },
  {
   "cell_type": "code",
   "execution_count": 25,
   "metadata": {
    "colab": {
     "base_uri": "https://localhost:8080/"
    },
    "id": "skg2QyBLwCLD",
    "outputId": "c16965d2-d555-4ecb-c3dd-d4e62997a8ca"
   },
   "outputs": [
    {
     "data": {
      "text/plain": [
       "98.0"
      ]
     },
     "execution_count": 25,
     "metadata": {},
     "output_type": "execute_result"
    }
   ],
   "source": [
    "np.percentile(array,100)"
   ]
  },
  {
   "cell_type": "code",
   "execution_count": 37,
   "metadata": {
    "id": "OzXFi3LcwFtr"
   },
   "outputs": [],
   "source": [
    "#outliers detection\n",
    "def outDetection(array):\n",
    "  sorted(array)\n",
    "  Q1,Q3=np.percentile(array,[25,75])\n",
    "  IQR=Q3-Q1\n",
    "  lr=Q1-(1.5*IQR)\n",
    "  ur=Q3+(1.5*IQR)\n",
    "  return lr,ur"
   ]
  },
  {
   "cell_type": "code",
   "execution_count": 40,
   "metadata": {
    "colab": {
     "base_uri": "https://localhost:8080/"
    },
    "id": "KizrEvR6xrTT",
    "outputId": "b04fd320-f502-4977-8a45-ce0b72fe4b77"
   },
   "outputs": [
    {
     "data": {
      "text/plain": [
       "(-46.625, 148.375)"
      ]
     },
     "execution_count": 40,
     "metadata": {},
     "output_type": "execute_result"
    }
   ],
   "source": [
    "lr,ur=outDetection(array)\n",
    "lr,ur"
   ]
  },
  {
   "cell_type": "code",
   "execution_count": 43,
   "metadata": {
    "colab": {
     "base_uri": "https://localhost:8080/",
     "height": 523
    },
    "id": "zuj9ReHPx1dO",
    "outputId": "0d8c5c30-7648-4e78-a13f-36c837d0852c"
   },
   "outputs": [
    {
     "data": {
      "text/plain": [
       "<seaborn.axisgrid.FacetGrid at 0x7b08b682efe0>"
      ]
     },
     "execution_count": 43,
     "metadata": {},
     "output_type": "execute_result"
    },
    {
     "data": {
      "image/png": "[encoded data removed]",
      "text/plain": [
       "<Figure size 500x500 with 1 Axes>"
      ]
     },
     "metadata": {},
     "output_type": "display_data"
    }
   ],
   "source": [
    "import seaborn as sns\n",
    "%matplotlib inline\n",
    "sns.displot(array)"
   ]
  },
  {
   "cell_type": "code",
   "execution_count": 46,
   "metadata": {
    "colab": {
     "base_uri": "https://localhost:8080/"
    },
    "id": "lQQzUGKcyP9M",
    "outputId": "39fa32a0-4612-4bcd-a127-64f110152a2d"
   },
   "outputs": [
    {
     "data": {
      "text/plain": [
       "array([29, 62, 72,  5, 15, 86, 25, 69, 22, 86, 33, 98, 59, 85, 70, 27])"
      ]
     },
     "execution_count": 46,
     "metadata": {},
     "output_type": "execute_result"
    }
   ],
   "source": [
    "new_array=array[(array>lr) & (array<ur)]\n",
    "new_array"
   ]
  },
  {
   "cell_type": "code",
   "execution_count": 48,
   "metadata": {
    "colab": {
     "base_uri": "https://localhost:8080/",
     "height": 523
    },
    "id": "cFiMagFsyXWT",
    "outputId": "213fcbee-4563-4790-e3a1-cfd2e067a034"
   },
   "outputs": [
    {
     "data": {
      "text/plain": [
       "<seaborn.axisgrid.FacetGrid at 0x7b08b7818760>"
      ]
     },
     "execution_count": 48,
     "metadata": {},
     "output_type": "execute_result"
    },
    {
     "data": {
      "image/png": "[encoded data removed]",
      "text/plain": [
       "<Figure size 500x500 with 1 Axes>"
      ]
     },
     "metadata": {},
     "output_type": "display_data"
    }
   ],
   "source": [
    "sns.displot(new_array)"
   ]
  },
  {
   "cell_type": "code",
   "execution_count": 51,
   "metadata": {
    "colab": {
     "base_uri": "https://localhost:8080/"
    },
    "id": "hK8LGQyHycAR",
    "outputId": "35de864e-327b-4e29-89b1-54ebd2699d46"
   },
   "outputs": [
    {
     "data": {
      "text/plain": [
       "(-46.625, 148.375)"
      ]
     },
     "execution_count": 51,
     "metadata": {},
     "output_type": "execute_result"
    }
   ],
   "source": [
    "lr1,ur1=outDetection(new_array)\n",
    "lr1,ur1"
   ]
  },
  {
   "cell_type": "code",
   "execution_count": 53,
   "metadata": {
    "colab": {
     "base_uri": "https://localhost:8080/"
    },
    "id": "eWZX_K0Jyuvd",
    "outputId": "67c5e6fb-208a-45bc-dad4-3262d5f22281"
   },
   "outputs": [
    {
     "data": {
      "text/plain": [
       "array([29, 62, 72,  5, 15, 86, 25, 69, 22, 86, 33, 98, 59, 85, 70, 27])"
      ]
     },
     "execution_count": 53,
     "metadata": {},
     "output_type": "execute_result"
    }
   ],
   "source": [
    "final_array=new_array[(new_array>lr1) & (new_array<ur1)]\n",
    "final_array"
   ]
  },
  {
   "cell_type": "code",
   "execution_count": 54,
   "metadata": {
    "colab": {
     "base_uri": "https://localhost:8080/",
     "height": 638
    },
    "id": "0wo0rol9yziY",
    "outputId": "b4002833-2db6-493a-de10-f43c42142f5c"
   },
   "outputs": [
    {
     "name": "stderr",
     "output_type": "stream",
     "text": [
      "<ipython-input-54-7ba96ada5b76>:1: UserWarning: \n",
      "\n",
      "`distplot` is a deprecated function and will be removed in seaborn v0.14.0.\n",
      "\n",
      "Please adapt your code to use either `displot` (a figure-level function with\n",
      "similar flexibility) or `histplot` (an axes-level function for histograms).\n",
      "\n",
      "For a guide to updating your code to use the new functions, please see\n",
      "https://gist.github.com/mwaskom/de44147ed2974457ad6372750bbe5751\n",
      "\n",
      "  sns.distplot(final_array)\n"
     ]
    },
    {
     "data": {
      "text/plain": [
       "<Axes: ylabel='Density'>"
      ]
     },
     "execution_count": 54,
     "metadata": {},
     "output_type": "execute_result"
    },
    {
     "data": {
      "image/png": "[encoded data removed]",
      "text/plain": [
       "<Figure size 640x480 with 1 Axes>"
      ]
     },
     "metadata": {},
     "output_type": "display_data"
    }
   ],
   "source": [
    "sns.distplot(final_array)"
   ]
  }
 ],
 "metadata": {
  "colab": {
   "provenance": []
  },
  "kernelspec": {
   "display_name": "Python 3",
   "name": "python3"
  },
  "language_info": {
   "name": "python"
  }
 },
 "nbformat": 4,
 "nbformat_minor": 0
}
