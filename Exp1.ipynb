{
 "cells": [
  {
   "cell_type": "code",
   "execution_count": null,
   "metadata": {
    "colab": {
     "base_uri": "https://localhost:8080/"
    },
    "id": "iN9Sb3J3hp-q",
    "outputId": "0d578755-d69c-4861-8817-c11e5f28eb1c"
   },
   "outputs": [
    {
     "data": {
      "text/plain": [
       "array([17, 73, 17, 43, 86, 37, 31, 88, 76])"
      ]
     },
     "execution_count": 7,
     "metadata": {},
     "output_type": "execute_result"
    }
   ],
   "source": [
    "#Name:M.Praveenraj\n",
    "#Regno:230701396\n",
    "#CS23334-Fundamentals of DataScience\n",
    "import numpy as np\n",
    "array=np.random.randint(1,100,9)\n",
    "array\n",
    "\n",
    "\n"
   ]
  },
  {
   "cell_type": "code",
   "execution_count": 9,
   "metadata": {
    "colab": {
     "base_uri": "https://localhost:8080/"
    },
    "id": "CTJrlCcijrLv",
    "outputId": "f9dfceea-b695-48ba-b28f-5fa1317f4ce7"
   },
   "outputs": [
    {
     "data": {
      "text/plain": [
       "array([4.12310563, 8.54400375, 4.12310563, 6.55743852, 9.2736185 ,\n",
       "       6.08276253, 5.56776436, 9.38083152, 8.71779789])"
      ]
     },
     "execution_count": 9,
     "metadata": {},
     "output_type": "execute_result"
    }
   ],
   "source": [
    "np.sqrt(array)"
   ]
  },
  {
   "cell_type": "code",
   "execution_count": 11,
   "metadata": {
    "colab": {
     "base_uri": "https://localhost:8080/"
    },
    "id": "T-pGDFjLkErD",
    "outputId": "4eb71543-6f5f-4b54-95f1-e98056d6f518"
   },
   "outputs": [
    {
     "data": {
      "text/plain": [
       "1"
      ]
     },
     "execution_count": 11,
     "metadata": {},
     "output_type": "execute_result"
    }
   ],
   "source": [
    "array.ndim"
   ]
  },
  {
   "cell_type": "code",
   "execution_count": 12,
   "metadata": {
    "colab": {
     "base_uri": "https://localhost:8080/"
    },
    "id": "EoTMfWP1kMSE",
    "outputId": "09932f73-0ee8-4eae-dab7-d7ece0309f14"
   },
   "outputs": [
    {
     "data": {
      "text/plain": [
       "array([[17, 73, 17],\n",
       "       [43, 86, 37],\n",
       "       [31, 88, 76]])"
      ]
     },
     "execution_count": 12,
     "metadata": {},
     "output_type": "execute_result"
    }
   ],
   "source": [
    "new_array=array.reshape(3,3)\n",
    "new_array\n"
   ]
  },
  {
   "cell_type": "code",
   "execution_count": 14,
   "metadata": {
    "colab": {
     "base_uri": "https://localhost:8080/"
    },
    "id": "IBqF7z4JkSoO",
    "outputId": "1917d9f4-81cb-4936-990e-33dcdbcfc09c"
   },
   "outputs": [
    {
     "data": {
      "text/plain": [
       "2"
      ]
     },
     "execution_count": 14,
     "metadata": {},
     "output_type": "execute_result"
    }
   ],
   "source": [
    "new_array.ndim"
   ]
  },
  {
   "cell_type": "code",
   "execution_count": 16,
   "metadata": {
    "colab": {
     "base_uri": "https://localhost:8080/"
    },
    "id": "nZ_UepzIkez1",
    "outputId": "2be40d99-6ad4-47ab-d9bb-7a12ed500707"
   },
   "outputs": [
    {
     "data": {
      "text/plain": [
       "array([17, 73, 17, 43, 86, 37, 31, 88, 76])"
      ]
     },
     "execution_count": 16,
     "metadata": {},
     "output_type": "execute_result"
    }
   ],
   "source": [
    "new_array.ravel()"
   ]
  },
  {
   "cell_type": "code",
   "execution_count": 18,
   "metadata": {
    "id": "jH0XGQ6OknHM"
   },
   "outputs": [],
   "source": [
    "newm=new_array.reshape(3,3)\n"
   ]
  },
  {
   "cell_type": "code",
   "execution_count": 20,
   "metadata": {
    "colab": {
     "base_uri": "https://localhost:8080/"
    },
    "id": "mYfI2BOXk5H_",
    "outputId": "b4a8beea-ef67-424c-e340-a7ccaa797e30"
   },
   "outputs": [
    {
     "data": {
      "text/plain": [
       "array([[17, 73, 17],\n",
       "       [43, 86, 37],\n",
       "       [31, 88, 76]])"
      ]
     },
     "execution_count": 20,
     "metadata": {},
     "output_type": "execute_result"
    }
   ],
   "source": [
    "newm"
   ]
  },
  {
   "cell_type": "code",
   "execution_count": 22,
   "metadata": {
    "colab": {
     "base_uri": "https://localhost:8080/"
    },
    "id": "oaRmil2kk8Os",
    "outputId": "d0ca5e3a-372c-4b67-838c-d921d9b6c2c1"
   },
   "outputs": [
    {
     "data": {
      "text/plain": [
       "array([88, 76])"
      ]
     },
     "execution_count": 22,
     "metadata": {},
     "output_type": "execute_result"
    }
   ],
   "source": [
    "newm[2,1:3]"
   ]
  },
  {
   "cell_type": "code",
   "execution_count": 24,
   "metadata": {
    "colab": {
     "base_uri": "https://localhost:8080/"
    },
    "id": "TSMG6SD0lJyD",
    "outputId": "f761c89a-3850-4c10-e6e2-9907aaf7639e"
   },
   "outputs": [
    {
     "data": {
      "text/plain": [
       "array([[86, 37]])"
      ]
     },
     "execution_count": 24,
     "metadata": {},
     "output_type": "execute_result"
    }
   ],
   "source": [
    "newm[1:2,1:3]"
   ]
  },
  {
   "cell_type": "code",
   "execution_count": 26,
   "metadata": {
    "colab": {
     "base_uri": "https://localhost:8080/"
    },
    "id": "1aOf2tdalMmP",
    "outputId": "f8a46830-635f-47d7-b82c-443b53e050c8"
   },
   "outputs": [
    {
     "data": {
      "text/plain": [
       "array([], shape=(3, 0), dtype=int64)"
      ]
     },
     "execution_count": 26,
     "metadata": {},
     "output_type": "execute_result"
    }
   ],
   "source": [
    "new_array[0:3,0:0]"
   ]
  },
  {
   "cell_type": "code",
   "execution_count": 28,
   "metadata": {
    "colab": {
     "base_uri": "https://localhost:8080/"
    },
    "id": "14fTTT29lTkY",
    "outputId": "f5ff3f91-20fb-4842-f6d1-87b330c913a1"
   },
   "outputs": [
    {
     "data": {
      "text/plain": [
       "array([[17],\n",
       "       [43]])"
      ]
     },
     "execution_count": 28,
     "metadata": {},
     "output_type": "execute_result"
    }
   ],
   "source": [
    "new_array[0:2,0:1]"
   ]
  },
  {
   "cell_type": "code",
   "execution_count": 30,
   "metadata": {
    "colab": {
     "base_uri": "https://localhost:8080/"
    },
    "id": "FTnFvT5OlZCB",
    "outputId": "fc2c8362-ab67-4d4c-9d96-93d470983182"
   },
   "outputs": [
    {
     "data": {
      "text/plain": [
       "array([[17],\n",
       "       [43],\n",
       "       [31]])"
      ]
     },
     "execution_count": 30,
     "metadata": {},
     "output_type": "execute_result"
    }
   ],
   "source": [
    "new_array[0:3,0:1]\n"
   ]
  },
  {
   "cell_type": "code",
   "execution_count": 31,
   "metadata": {
    "colab": {
     "base_uri": "https://localhost:8080/"
    },
    "id": "ZVPDtzNZliQQ",
    "outputId": "2fd6a2b5-167f-4a4d-f478-7f2a9bb36b90"
   },
   "outputs": [
    {
     "data": {
      "text/plain": [
       "array([[43, 86, 37],\n",
       "       [31, 88, 76]])"
      ]
     },
     "execution_count": 31,
     "metadata": {},
     "output_type": "execute_result"
    }
   ],
   "source": [
    "new_array[1:3]\n"
   ]
  }
 ],
 "metadata": {
  "colab": {
   "provenance": []
  },
  "kernelspec": {
   "display_name": "Python 3",
   "name": "python3"
  },
  "language_info": {
   "name": "python"
  }
 },
 "nbformat": 4,
 "nbformat_minor": 0
}
